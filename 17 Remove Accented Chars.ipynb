{
 "cells": [
  {
   "cell_type": "code",
   "execution_count": 1,
   "metadata": {},
   "outputs": [],
   "source": [
    "import pandas as pd\n",
    "import numpy as np\n",
    "import spacy"
   ]
  },
  {
   "cell_type": "code",
   "execution_count": 2,
   "metadata": {},
   "outputs": [],
   "source": [
    "from spacy.lang.en.stop_words import STOP_WORDS as stopwords"
   ]
  },
  {
   "cell_type": "code",
   "execution_count": 3,
   "metadata": {},
   "outputs": [],
   "source": [
    "df = pd.read_csv(\"twitter4000.csv\",encoding=\"latin1\")"
   ]
  },
  {
   "cell_type": "code",
   "execution_count": 4,
   "metadata": {
    "scrolled": true
   },
   "outputs": [
    {
     "data": {
      "text/html": [
       "<div>\n",
       "<style scoped>\n",
       "    .dataframe tbody tr th:only-of-type {\n",
       "        vertical-align: middle;\n",
       "    }\n",
       "\n",
       "    .dataframe tbody tr th {\n",
       "        vertical-align: top;\n",
       "    }\n",
       "\n",
       "    .dataframe thead th {\n",
       "        text-align: right;\n",
       "    }\n",
       "</style>\n",
       "<table border=\"1\" class=\"dataframe\">\n",
       "  <thead>\n",
       "    <tr style=\"text-align: right;\">\n",
       "      <th></th>\n",
       "      <th>twitts</th>\n",
       "      <th>sentiment</th>\n",
       "    </tr>\n",
       "  </thead>\n",
       "  <tbody>\n",
       "    <tr>\n",
       "      <th>0</th>\n",
       "      <td>is bored and wants to watch a movie  any sugge...</td>\n",
       "      <td>0</td>\n",
       "    </tr>\n",
       "    <tr>\n",
       "      <th>1</th>\n",
       "      <td>back in miami.  waiting to unboard ship</td>\n",
       "      <td>0</td>\n",
       "    </tr>\n",
       "    <tr>\n",
       "      <th>2</th>\n",
       "      <td>@misskpey awwww dnt dis brng bak memoriessss, ...</td>\n",
       "      <td>0</td>\n",
       "    </tr>\n",
       "    <tr>\n",
       "      <th>3</th>\n",
       "      <td>ughhh i am so tired  blahhhhhhhhh</td>\n",
       "      <td>0</td>\n",
       "    </tr>\n",
       "    <tr>\n",
       "      <th>4</th>\n",
       "      <td>@mandagoforth me bad! It's funny though. Zacha...</td>\n",
       "      <td>0</td>\n",
       "    </tr>\n",
       "  </tbody>\n",
       "</table>\n",
       "</div>"
      ],
      "text/plain": [
       "                                              twitts  sentiment\n",
       "0  is bored and wants to watch a movie  any sugge...          0\n",
       "1           back in miami.  waiting to unboard ship           0\n",
       "2  @misskpey awwww dnt dis brng bak memoriessss, ...          0\n",
       "3                  ughhh i am so tired  blahhhhhhhhh          0\n",
       "4  @mandagoforth me bad! It's funny though. Zacha...          0"
      ]
     },
     "execution_count": 4,
     "metadata": {},
     "output_type": "execute_result"
    }
   ],
   "source": [
    "df.head()"
   ]
  },
  {
   "cell_type": "code",
   "execution_count": 5,
   "metadata": {},
   "outputs": [
    {
     "data": {
      "text/plain": [
       "1    2000\n",
       "0    2000\n",
       "Name: sentiment, dtype: int64"
      ]
     },
     "execution_count": 5,
     "metadata": {},
     "output_type": "execute_result"
    }
   ],
   "source": [
    "df.sentiment.value_counts()"
   ]
  },
  {
   "cell_type": "markdown",
   "metadata": {},
   "source": [
    "### Word Counts\n",
    "- len of words in a sentence"
   ]
  },
  {
   "cell_type": "code",
   "execution_count": 6,
   "metadata": {},
   "outputs": [
    {
     "data": {
      "text/html": [
       "<div>\n",
       "<style scoped>\n",
       "    .dataframe tbody tr th:only-of-type {\n",
       "        vertical-align: middle;\n",
       "    }\n",
       "\n",
       "    .dataframe tbody tr th {\n",
       "        vertical-align: top;\n",
       "    }\n",
       "\n",
       "    .dataframe thead th {\n",
       "        text-align: right;\n",
       "    }\n",
       "</style>\n",
       "<table border=\"1\" class=\"dataframe\">\n",
       "  <thead>\n",
       "    <tr style=\"text-align: right;\">\n",
       "      <th></th>\n",
       "      <th>twitts</th>\n",
       "      <th>sentiment</th>\n",
       "      <th>word_counts</th>\n",
       "    </tr>\n",
       "  </thead>\n",
       "  <tbody>\n",
       "    <tr>\n",
       "      <th>0</th>\n",
       "      <td>is bored and wants to watch a movie  any sugge...</td>\n",
       "      <td>0</td>\n",
       "      <td>10</td>\n",
       "    </tr>\n",
       "    <tr>\n",
       "      <th>1</th>\n",
       "      <td>back in miami.  waiting to unboard ship</td>\n",
       "      <td>0</td>\n",
       "      <td>7</td>\n",
       "    </tr>\n",
       "    <tr>\n",
       "      <th>2</th>\n",
       "      <td>@misskpey awwww dnt dis brng bak memoriessss, ...</td>\n",
       "      <td>0</td>\n",
       "      <td>12</td>\n",
       "    </tr>\n",
       "    <tr>\n",
       "      <th>3</th>\n",
       "      <td>ughhh i am so tired  blahhhhhhhhh</td>\n",
       "      <td>0</td>\n",
       "      <td>6</td>\n",
       "    </tr>\n",
       "    <tr>\n",
       "      <th>4</th>\n",
       "      <td>@mandagoforth me bad! It's funny though. Zacha...</td>\n",
       "      <td>0</td>\n",
       "      <td>26</td>\n",
       "    </tr>\n",
       "  </tbody>\n",
       "</table>\n",
       "</div>"
      ],
      "text/plain": [
       "                                              twitts  sentiment  word_counts\n",
       "0  is bored and wants to watch a movie  any sugge...          0           10\n",
       "1           back in miami.  waiting to unboard ship           0            7\n",
       "2  @misskpey awwww dnt dis brng bak memoriessss, ...          0           12\n",
       "3                  ughhh i am so tired  blahhhhhhhhh          0            6\n",
       "4  @mandagoforth me bad! It's funny though. Zacha...          0           26"
      ]
     },
     "execution_count": 6,
     "metadata": {},
     "output_type": "execute_result"
    }
   ],
   "source": [
    "df['word_counts'] = df.twitts.apply(lambda x:len(x.split()))\n",
    "df.head()"
   ]
  },
  {
   "cell_type": "code",
   "execution_count": 7,
   "metadata": {},
   "outputs": [
    {
     "data": {
      "text/plain": [
       "1"
      ]
     },
     "execution_count": 7,
     "metadata": {},
     "output_type": "execute_result"
    }
   ],
   "source": [
    "df['word_counts'].min()"
   ]
  },
  {
   "cell_type": "code",
   "execution_count": 8,
   "metadata": {},
   "outputs": [
    {
     "data": {
      "text/plain": [
       "32"
      ]
     },
     "execution_count": 8,
     "metadata": {},
     "output_type": "execute_result"
    }
   ],
   "source": [
    "df['word_counts'].max()"
   ]
  },
  {
   "cell_type": "code",
   "execution_count": 9,
   "metadata": {
    "scrolled": false
   },
   "outputs": [
    {
     "data": {
      "text/html": [
       "<div>\n",
       "<style scoped>\n",
       "    .dataframe tbody tr th:only-of-type {\n",
       "        vertical-align: middle;\n",
       "    }\n",
       "\n",
       "    .dataframe tbody tr th {\n",
       "        vertical-align: top;\n",
       "    }\n",
       "\n",
       "    .dataframe thead th {\n",
       "        text-align: right;\n",
       "    }\n",
       "</style>\n",
       "<table border=\"1\" class=\"dataframe\">\n",
       "  <thead>\n",
       "    <tr style=\"text-align: right;\">\n",
       "      <th></th>\n",
       "      <th>twitts</th>\n",
       "      <th>sentiment</th>\n",
       "      <th>word_counts</th>\n",
       "    </tr>\n",
       "  </thead>\n",
       "  <tbody>\n",
       "    <tr>\n",
       "      <th>385</th>\n",
       "      <td>homework</td>\n",
       "      <td>0</td>\n",
       "      <td>1</td>\n",
       "    </tr>\n",
       "    <tr>\n",
       "      <th>691</th>\n",
       "      <td>@ekrelly</td>\n",
       "      <td>0</td>\n",
       "      <td>1</td>\n",
       "    </tr>\n",
       "    <tr>\n",
       "      <th>1124</th>\n",
       "      <td>disappointed</td>\n",
       "      <td>0</td>\n",
       "      <td>1</td>\n",
       "    </tr>\n",
       "    <tr>\n",
       "      <th>1286</th>\n",
       "      <td>@officialmgnfox</td>\n",
       "      <td>0</td>\n",
       "      <td>1</td>\n",
       "    </tr>\n",
       "    <tr>\n",
       "      <th>1325</th>\n",
       "      <td>headache</td>\n",
       "      <td>0</td>\n",
       "      <td>1</td>\n",
       "    </tr>\n",
       "    <tr>\n",
       "      <th>1897</th>\n",
       "      <td>@MCRmuffin</td>\n",
       "      <td>0</td>\n",
       "      <td>1</td>\n",
       "    </tr>\n",
       "    <tr>\n",
       "      <th>2542</th>\n",
       "      <td>Graduated!</td>\n",
       "      <td>1</td>\n",
       "      <td>1</td>\n",
       "    </tr>\n",
       "    <tr>\n",
       "      <th>2947</th>\n",
       "      <td>reading</td>\n",
       "      <td>1</td>\n",
       "      <td>1</td>\n",
       "    </tr>\n",
       "    <tr>\n",
       "      <th>3176</th>\n",
       "      <td>@omeirdeleon</td>\n",
       "      <td>1</td>\n",
       "      <td>1</td>\n",
       "    </tr>\n",
       "    <tr>\n",
       "      <th>3470</th>\n",
       "      <td>www.myspace.com/myfinalthought</td>\n",
       "      <td>1</td>\n",
       "      <td>1</td>\n",
       "    </tr>\n",
       "    <tr>\n",
       "      <th>3966</th>\n",
       "      <td>@gethyp3</td>\n",
       "      <td>1</td>\n",
       "      <td>1</td>\n",
       "    </tr>\n",
       "  </tbody>\n",
       "</table>\n",
       "</div>"
      ],
      "text/plain": [
       "                               twitts  sentiment  word_counts\n",
       "385                         homework           0            1\n",
       "691                         @ekrelly           0            1\n",
       "1124                    disappointed           0            1\n",
       "1286                 @officialmgnfox           0            1\n",
       "1325                        headache           0            1\n",
       "1897                      @MCRmuffin           0            1\n",
       "2542                      Graduated!           1            1\n",
       "2947                         reading           1            1\n",
       "3176                    @omeirdeleon           1            1\n",
       "3470  www.myspace.com/myfinalthought           1            1\n",
       "3966                        @gethyp3           1            1"
      ]
     },
     "execution_count": 9,
     "metadata": {},
     "output_type": "execute_result"
    }
   ],
   "source": [
    "df[df.word_counts==1]"
   ]
  },
  {
   "cell_type": "markdown",
   "metadata": {},
   "source": [
    "### Character Counts"
   ]
  },
  {
   "cell_type": "code",
   "execution_count": 10,
   "metadata": {},
   "outputs": [],
   "source": [
    "def char_counts(x):\n",
    "    s = x.split()\n",
    "    x = \"\".join(s)\n",
    "    return len(x)"
   ]
  },
  {
   "cell_type": "code",
   "execution_count": 11,
   "metadata": {},
   "outputs": [],
   "source": [
    "df[\"char_counts\"] = df['twitts'].apply(lambda x:char_counts(x))"
   ]
  },
  {
   "cell_type": "code",
   "execution_count": 12,
   "metadata": {},
   "outputs": [
    {
     "data": {
      "text/html": [
       "<div>\n",
       "<style scoped>\n",
       "    .dataframe tbody tr th:only-of-type {\n",
       "        vertical-align: middle;\n",
       "    }\n",
       "\n",
       "    .dataframe tbody tr th {\n",
       "        vertical-align: top;\n",
       "    }\n",
       "\n",
       "    .dataframe thead th {\n",
       "        text-align: right;\n",
       "    }\n",
       "</style>\n",
       "<table border=\"1\" class=\"dataframe\">\n",
       "  <thead>\n",
       "    <tr style=\"text-align: right;\">\n",
       "      <th></th>\n",
       "      <th>twitts</th>\n",
       "      <th>sentiment</th>\n",
       "      <th>word_counts</th>\n",
       "      <th>char_counts</th>\n",
       "    </tr>\n",
       "  </thead>\n",
       "  <tbody>\n",
       "    <tr>\n",
       "      <th>0</th>\n",
       "      <td>is bored and wants to watch a movie  any sugge...</td>\n",
       "      <td>0</td>\n",
       "      <td>10</td>\n",
       "      <td>43</td>\n",
       "    </tr>\n",
       "    <tr>\n",
       "      <th>1</th>\n",
       "      <td>back in miami.  waiting to unboard ship</td>\n",
       "      <td>0</td>\n",
       "      <td>7</td>\n",
       "      <td>32</td>\n",
       "    </tr>\n",
       "    <tr>\n",
       "      <th>2</th>\n",
       "      <td>@misskpey awwww dnt dis brng bak memoriessss, ...</td>\n",
       "      <td>0</td>\n",
       "      <td>12</td>\n",
       "      <td>54</td>\n",
       "    </tr>\n",
       "    <tr>\n",
       "      <th>3</th>\n",
       "      <td>ughhh i am so tired  blahhhhhhhhh</td>\n",
       "      <td>0</td>\n",
       "      <td>6</td>\n",
       "      <td>27</td>\n",
       "    </tr>\n",
       "    <tr>\n",
       "      <th>4</th>\n",
       "      <td>@mandagoforth me bad! It's funny though. Zacha...</td>\n",
       "      <td>0</td>\n",
       "      <td>26</td>\n",
       "      <td>116</td>\n",
       "    </tr>\n",
       "  </tbody>\n",
       "</table>\n",
       "</div>"
      ],
      "text/plain": [
       "                                              twitts  sentiment  word_counts  \\\n",
       "0  is bored and wants to watch a movie  any sugge...          0           10   \n",
       "1           back in miami.  waiting to unboard ship           0            7   \n",
       "2  @misskpey awwww dnt dis brng bak memoriessss, ...          0           12   \n",
       "3                  ughhh i am so tired  blahhhhhhhhh          0            6   \n",
       "4  @mandagoforth me bad! It's funny though. Zacha...          0           26   \n",
       "\n",
       "   char_counts  \n",
       "0           43  \n",
       "1           32  \n",
       "2           54  \n",
       "3           27  \n",
       "4          116  "
      ]
     },
     "execution_count": 12,
     "metadata": {},
     "output_type": "execute_result"
    }
   ],
   "source": [
    "df.head() "
   ]
  },
  {
   "cell_type": "markdown",
   "metadata": {},
   "source": [
    "### Average Word Length"
   ]
  },
  {
   "cell_type": "code",
   "execution_count": 13,
   "metadata": {},
   "outputs": [],
   "source": [
    "x = \"hello world\" # 10/2 = 5; 10 total chars; 2 total words"
   ]
  },
  {
   "cell_type": "code",
   "execution_count": 14,
   "metadata": {},
   "outputs": [
    {
     "data": {
      "text/html": [
       "<div>\n",
       "<style scoped>\n",
       "    .dataframe tbody tr th:only-of-type {\n",
       "        vertical-align: middle;\n",
       "    }\n",
       "\n",
       "    .dataframe tbody tr th {\n",
       "        vertical-align: top;\n",
       "    }\n",
       "\n",
       "    .dataframe thead th {\n",
       "        text-align: right;\n",
       "    }\n",
       "</style>\n",
       "<table border=\"1\" class=\"dataframe\">\n",
       "  <thead>\n",
       "    <tr style=\"text-align: right;\">\n",
       "      <th></th>\n",
       "      <th>twitts</th>\n",
       "      <th>sentiment</th>\n",
       "      <th>word_counts</th>\n",
       "      <th>char_counts</th>\n",
       "      <th>average_word_length</th>\n",
       "    </tr>\n",
       "  </thead>\n",
       "  <tbody>\n",
       "    <tr>\n",
       "      <th>0</th>\n",
       "      <td>is bored and wants to watch a movie  any sugge...</td>\n",
       "      <td>0</td>\n",
       "      <td>10</td>\n",
       "      <td>43</td>\n",
       "      <td>4.300000</td>\n",
       "    </tr>\n",
       "    <tr>\n",
       "      <th>1</th>\n",
       "      <td>back in miami.  waiting to unboard ship</td>\n",
       "      <td>0</td>\n",
       "      <td>7</td>\n",
       "      <td>32</td>\n",
       "      <td>4.571429</td>\n",
       "    </tr>\n",
       "    <tr>\n",
       "      <th>2</th>\n",
       "      <td>@misskpey awwww dnt dis brng bak memoriessss, ...</td>\n",
       "      <td>0</td>\n",
       "      <td>12</td>\n",
       "      <td>54</td>\n",
       "      <td>4.500000</td>\n",
       "    </tr>\n",
       "    <tr>\n",
       "      <th>3</th>\n",
       "      <td>ughhh i am so tired  blahhhhhhhhh</td>\n",
       "      <td>0</td>\n",
       "      <td>6</td>\n",
       "      <td>27</td>\n",
       "      <td>4.500000</td>\n",
       "    </tr>\n",
       "    <tr>\n",
       "      <th>4</th>\n",
       "      <td>@mandagoforth me bad! It's funny though. Zacha...</td>\n",
       "      <td>0</td>\n",
       "      <td>26</td>\n",
       "      <td>116</td>\n",
       "      <td>4.461538</td>\n",
       "    </tr>\n",
       "  </tbody>\n",
       "</table>\n",
       "</div>"
      ],
      "text/plain": [
       "                                              twitts  sentiment  word_counts  \\\n",
       "0  is bored and wants to watch a movie  any sugge...          0           10   \n",
       "1           back in miami.  waiting to unboard ship           0            7   \n",
       "2  @misskpey awwww dnt dis brng bak memoriessss, ...          0           12   \n",
       "3                  ughhh i am so tired  blahhhhhhhhh          0            6   \n",
       "4  @mandagoforth me bad! It's funny though. Zacha...          0           26   \n",
       "\n",
       "   char_counts  average_word_length  \n",
       "0           43             4.300000  \n",
       "1           32             4.571429  \n",
       "2           54             4.500000  \n",
       "3           27             4.500000  \n",
       "4          116             4.461538  "
      ]
     },
     "execution_count": 14,
     "metadata": {},
     "output_type": "execute_result"
    }
   ],
   "source": [
    "df['average_word_length'] =  df['char_counts']/ df['word_counts']\n",
    "df.head()"
   ]
  },
  {
   "cell_type": "markdown",
   "metadata": {},
   "source": [
    "### Stop words count\n",
    "- Stop words occur frequently in corpus\n",
    "- These words do not represent the context for the sentence\n",
    "- we can remove stopwords.\n",
    "- in sentiment analysis not is a important word."
   ]
  },
  {
   "cell_type": "code",
   "execution_count": 15,
   "metadata": {
    "scrolled": true
   },
   "outputs": [
    {
     "name": "stdout",
     "output_type": "stream",
     "text": [
      "{'about', '‘s', 'made', 'even', 'at', 'us', 'elsewhere', 'have', 'beyond', 'top', 'had', 'four', 'yourselves', 'when', 'me', 'hundred', 'of', 'whence', 'whenever', 'thereby', 'off', 'or', 'over', 'and', 'among', 'behind', 'most', 'now', 'those', 'many', 'no', 'any', 'against', 'latter', 'five', 'towards', 'just', 'therein', 'thru', 'via', 'should', 'either', 'last', 'see', 'nine', 'each', 'meanwhile', 'something', 'various', 'do', 'already', 'here', 'between', 'these', 'around', 'often', 'everywhere', 'she', 'before', 'twelve', 'front', 'did', 'namely', 'whose', 'somewhere', 'has', 'else', 'put', 'along', 'out', 'everyone', 'using', 'his', 'hereafter', 'regarding', 'the', '’d', 'yourself', 'neither', 'hereupon', 'six', 'whither', 'herein', 'while', 'for', 'might', 'further', 'always', 'only', 'above', 'two', 'into', 'can', 'until', 'sixty', 'becoming', 'so', 'much', 'n‘t', 'make', 'several', 'yours', 'there', 'will', 'through', 'whatever', 'due', 'former', 'almost', 'they', 're', 'beside', 'an', 'also', 'everything', 'herself', 'am', 'nor', 'throughout', '‘m', 'if', 'somehow', 'back', 'why', 'because', '’ve', 'perhaps', 'whoever', 'seem', '’m', 'up', 'part', '’ll', 'get', 'cannot', 'you', 'could', 'may', 'we', 'whole', 'first', 'were', 'call', 'this', 'every', 'as', 'anyone', 'eight', 'my', 'what', 'really', 'whereas', 'alone', 'seems', 'next', 'together', 'empty', 'a', 'indeed', 'anywhere', '‘re', 'rather', 'does', 'fifteen', 'him', 'own', '‘ve', 'ourselves', 'anything', 'from', 'across', 'he', 'became', 'himself', 'within', 'would', 'our', 'ca', 'n’t', 'take', 'none', 'moreover', 'thus', 'which', 'amongst', 'forty', 'yet', '’s', 'unless', 'with', 'amount', 'to', 'seeming', 'without', 'who', 'was', 'beforehand', 'otherwise', 'give', 'therefore', 'wherever', 'mine', 'third', 'below', '‘ll', 'less', \"'ve\", 'becomes', 'per', 'but', 'full', 'your', 'i', 'their', 'name', 'in', 'how', 'least', 'not', 'except', 'nevertheless', 'become', \"'ll\", 'doing', 'someone', 'never', 'mostly', 'serious', 'thereupon', 'her', 'upon', 'such', \"'s\", 'one', 'enough', 'still', 'done', 'however', 'go', '’re', 'ours', 'anyway', 'once', 'after', 'be', 'whereby', 'being', 'sometimes', 'myself', 'down', 'more', 'nobody', 'itself', 'latterly', 'nowhere', 'bottom', 'wherein', 'hereby', 'whom', \"'d\", 'nothing', 'please', 'too', 'used', 'its', 'sometime', 'some', 'thence', 'both', 'fifty', 'very', 'though', 'whereafter', 'keep', 'hers', 'twenty', 'quite', \"'re\", 'by', 'it', 'under', 'anyhow', 'same', 'then', 'move', 'been', 'onto', 'noone', 'besides', 'ever', \"n't\", 'others', 'three', 'must', 'all', 'afterwards', 'show', 'themselves', 'on', 'few', 'other', 'are', 'well', 'say', 'thereafter', 'formerly', 'hence', 'is', \"'m\", 'although', 'during', 'that', 'whether', '‘d', 'than', 'where', 'another', 'whereupon', 'ten', 'since', 'seemed', 'side', 'again', 'toward', 'eleven', 'them'}\n"
     ]
    }
   ],
   "source": [
    "print(stopwords) # imported from spacy"
   ]
  },
  {
   "cell_type": "code",
   "execution_count": 16,
   "metadata": {},
   "outputs": [
    {
     "data": {
      "text/plain": [
       "326"
      ]
     },
     "execution_count": 16,
     "metadata": {},
     "output_type": "execute_result"
    }
   ],
   "source": [
    "len(stopwords)"
   ]
  },
  {
   "cell_type": "code",
   "execution_count": 17,
   "metadata": {},
   "outputs": [
    {
     "data": {
      "text/plain": [
       "['this', 'is', 'the', 'text', 'data']"
      ]
     },
     "execution_count": 17,
     "metadata": {},
     "output_type": "execute_result"
    }
   ],
   "source": [
    "x = \"this is the text data\"\n",
    "x.split()"
   ]
  },
  {
   "cell_type": "code",
   "execution_count": 18,
   "metadata": {},
   "outputs": [
    {
     "data": {
      "text/plain": [
       "3"
      ]
     },
     "execution_count": 18,
     "metadata": {},
     "output_type": "execute_result"
    }
   ],
   "source": [
    "len([i for i in x.split() if i in stopwords])"
   ]
  },
  {
   "cell_type": "code",
   "execution_count": 19,
   "metadata": {},
   "outputs": [
    {
     "data": {
      "text/html": [
       "<div>\n",
       "<style scoped>\n",
       "    .dataframe tbody tr th:only-of-type {\n",
       "        vertical-align: middle;\n",
       "    }\n",
       "\n",
       "    .dataframe tbody tr th {\n",
       "        vertical-align: top;\n",
       "    }\n",
       "\n",
       "    .dataframe thead th {\n",
       "        text-align: right;\n",
       "    }\n",
       "</style>\n",
       "<table border=\"1\" class=\"dataframe\">\n",
       "  <thead>\n",
       "    <tr style=\"text-align: right;\">\n",
       "      <th></th>\n",
       "      <th>twitts</th>\n",
       "      <th>sentiment</th>\n",
       "      <th>word_counts</th>\n",
       "      <th>char_counts</th>\n",
       "      <th>average_word_length</th>\n",
       "      <th>stop_words_len</th>\n",
       "    </tr>\n",
       "  </thead>\n",
       "  <tbody>\n",
       "    <tr>\n",
       "      <th>0</th>\n",
       "      <td>is bored and wants to watch a movie  any sugge...</td>\n",
       "      <td>0</td>\n",
       "      <td>10</td>\n",
       "      <td>43</td>\n",
       "      <td>4.300000</td>\n",
       "      <td>5</td>\n",
       "    </tr>\n",
       "    <tr>\n",
       "      <th>1</th>\n",
       "      <td>back in miami.  waiting to unboard ship</td>\n",
       "      <td>0</td>\n",
       "      <td>7</td>\n",
       "      <td>32</td>\n",
       "      <td>4.571429</td>\n",
       "      <td>3</td>\n",
       "    </tr>\n",
       "    <tr>\n",
       "      <th>2</th>\n",
       "      <td>@misskpey awwww dnt dis brng bak memoriessss, ...</td>\n",
       "      <td>0</td>\n",
       "      <td>12</td>\n",
       "      <td>54</td>\n",
       "      <td>4.500000</td>\n",
       "      <td>0</td>\n",
       "    </tr>\n",
       "    <tr>\n",
       "      <th>3</th>\n",
       "      <td>ughhh i am so tired  blahhhhhhhhh</td>\n",
       "      <td>0</td>\n",
       "      <td>6</td>\n",
       "      <td>27</td>\n",
       "      <td>4.500000</td>\n",
       "      <td>3</td>\n",
       "    </tr>\n",
       "    <tr>\n",
       "      <th>4</th>\n",
       "      <td>@mandagoforth me bad! It's funny though. Zacha...</td>\n",
       "      <td>0</td>\n",
       "      <td>26</td>\n",
       "      <td>116</td>\n",
       "      <td>4.461538</td>\n",
       "      <td>13</td>\n",
       "    </tr>\n",
       "  </tbody>\n",
       "</table>\n",
       "</div>"
      ],
      "text/plain": [
       "                                              twitts  sentiment  word_counts  \\\n",
       "0  is bored and wants to watch a movie  any sugge...          0           10   \n",
       "1           back in miami.  waiting to unboard ship           0            7   \n",
       "2  @misskpey awwww dnt dis brng bak memoriessss, ...          0           12   \n",
       "3                  ughhh i am so tired  blahhhhhhhhh          0            6   \n",
       "4  @mandagoforth me bad! It's funny though. Zacha...          0           26   \n",
       "\n",
       "   char_counts  average_word_length  stop_words_len  \n",
       "0           43             4.300000               5  \n",
       "1           32             4.571429               3  \n",
       "2           54             4.500000               0  \n",
       "3           27             4.500000               3  \n",
       "4          116             4.461538              13  "
      ]
     },
     "execution_count": 19,
     "metadata": {},
     "output_type": "execute_result"
    }
   ],
   "source": [
    "df['stop_words_len'] = df.twitts.apply(lambda x:len([i for i in x.split() if i in stopwords]))\n",
    "df.head()"
   ]
  },
  {
   "cell_type": "markdown",
   "metadata": {},
   "source": [
    "### Count # and @"
   ]
  },
  {
   "cell_type": "code",
   "execution_count": 20,
   "metadata": {},
   "outputs": [
    {
     "data": {
      "text/plain": [
       "['this', 'is', 'a', '#hastag', 'and', 'this', 'is', 'mention']"
      ]
     },
     "execution_count": 20,
     "metadata": {},
     "output_type": "execute_result"
    }
   ],
   "source": [
    "x = 'this is a #hastag and this is mention'\n",
    "x.split()"
   ]
  },
  {
   "cell_type": "code",
   "execution_count": 21,
   "metadata": {},
   "outputs": [
    {
     "data": {
      "text/html": [
       "<div>\n",
       "<style scoped>\n",
       "    .dataframe tbody tr th:only-of-type {\n",
       "        vertical-align: middle;\n",
       "    }\n",
       "\n",
       "    .dataframe tbody tr th {\n",
       "        vertical-align: top;\n",
       "    }\n",
       "\n",
       "    .dataframe thead th {\n",
       "        text-align: right;\n",
       "    }\n",
       "</style>\n",
       "<table border=\"1\" class=\"dataframe\">\n",
       "  <thead>\n",
       "    <tr style=\"text-align: right;\">\n",
       "      <th></th>\n",
       "      <th>twitts</th>\n",
       "      <th>sentiment</th>\n",
       "      <th>word_counts</th>\n",
       "      <th>char_counts</th>\n",
       "      <th>average_word_length</th>\n",
       "      <th>stop_words_len</th>\n",
       "      <th>hashtagcount</th>\n",
       "      <th>@count</th>\n",
       "    </tr>\n",
       "  </thead>\n",
       "  <tbody>\n",
       "    <tr>\n",
       "      <th>0</th>\n",
       "      <td>is bored and wants to watch a movie  any sugge...</td>\n",
       "      <td>0</td>\n",
       "      <td>10</td>\n",
       "      <td>43</td>\n",
       "      <td>4.300000</td>\n",
       "      <td>5</td>\n",
       "      <td>0</td>\n",
       "      <td>0</td>\n",
       "    </tr>\n",
       "    <tr>\n",
       "      <th>1</th>\n",
       "      <td>back in miami.  waiting to unboard ship</td>\n",
       "      <td>0</td>\n",
       "      <td>7</td>\n",
       "      <td>32</td>\n",
       "      <td>4.571429</td>\n",
       "      <td>3</td>\n",
       "      <td>0</td>\n",
       "      <td>0</td>\n",
       "    </tr>\n",
       "    <tr>\n",
       "      <th>2</th>\n",
       "      <td>@misskpey awwww dnt dis brng bak memoriessss, ...</td>\n",
       "      <td>0</td>\n",
       "      <td>12</td>\n",
       "      <td>54</td>\n",
       "      <td>4.500000</td>\n",
       "      <td>0</td>\n",
       "      <td>0</td>\n",
       "      <td>1</td>\n",
       "    </tr>\n",
       "    <tr>\n",
       "      <th>3</th>\n",
       "      <td>ughhh i am so tired  blahhhhhhhhh</td>\n",
       "      <td>0</td>\n",
       "      <td>6</td>\n",
       "      <td>27</td>\n",
       "      <td>4.500000</td>\n",
       "      <td>3</td>\n",
       "      <td>0</td>\n",
       "      <td>0</td>\n",
       "    </tr>\n",
       "    <tr>\n",
       "      <th>4</th>\n",
       "      <td>@mandagoforth me bad! It's funny though. Zacha...</td>\n",
       "      <td>0</td>\n",
       "      <td>26</td>\n",
       "      <td>116</td>\n",
       "      <td>4.461538</td>\n",
       "      <td>13</td>\n",
       "      <td>0</td>\n",
       "      <td>2</td>\n",
       "    </tr>\n",
       "  </tbody>\n",
       "</table>\n",
       "</div>"
      ],
      "text/plain": [
       "                                              twitts  sentiment  word_counts  \\\n",
       "0  is bored and wants to watch a movie  any sugge...          0           10   \n",
       "1           back in miami.  waiting to unboard ship           0            7   \n",
       "2  @misskpey awwww dnt dis brng bak memoriessss, ...          0           12   \n",
       "3                  ughhh i am so tired  blahhhhhhhhh          0            6   \n",
       "4  @mandagoforth me bad! It's funny though. Zacha...          0           26   \n",
       "\n",
       "   char_counts  average_word_length  stop_words_len  hashtagcount  @count  \n",
       "0           43             4.300000               5             0       0  \n",
       "1           32             4.571429               3             0       0  \n",
       "2           54             4.500000               0             0       1  \n",
       "3           27             4.500000               3             0       0  \n",
       "4          116             4.461538              13             0       2  "
      ]
     },
     "execution_count": 21,
     "metadata": {},
     "output_type": "execute_result"
    }
   ],
   "source": [
    "df[\"hashtagcount\"] = df.twitts.apply(lambda x:len([i for i in x.split() if i.startswith(\"#\")]))\n",
    "df[\"@count\"] = df.twitts.apply(lambda x:len([i for i in x.split() if i.startswith(\"@\")]))\n",
    "df.head()"
   ]
  },
  {
   "cell_type": "markdown",
   "metadata": {},
   "source": [
    "### Digit is present or not"
   ]
  },
  {
   "cell_type": "code",
   "execution_count": 22,
   "metadata": {},
   "outputs": [],
   "source": [
    "df[\"Numeric_counts\"] = df.twitts.apply(lambda x: len([i for i in x.split() if i.isdigit()]))"
   ]
  },
  {
   "cell_type": "code",
   "execution_count": 23,
   "metadata": {},
   "outputs": [
    {
     "data": {
      "text/html": [
       "<div>\n",
       "<style scoped>\n",
       "    .dataframe tbody tr th:only-of-type {\n",
       "        vertical-align: middle;\n",
       "    }\n",
       "\n",
       "    .dataframe tbody tr th {\n",
       "        vertical-align: top;\n",
       "    }\n",
       "\n",
       "    .dataframe thead th {\n",
       "        text-align: right;\n",
       "    }\n",
       "</style>\n",
       "<table border=\"1\" class=\"dataframe\">\n",
       "  <thead>\n",
       "    <tr style=\"text-align: right;\">\n",
       "      <th></th>\n",
       "      <th>twitts</th>\n",
       "      <th>sentiment</th>\n",
       "      <th>word_counts</th>\n",
       "      <th>char_counts</th>\n",
       "      <th>average_word_length</th>\n",
       "      <th>stop_words_len</th>\n",
       "      <th>hashtagcount</th>\n",
       "      <th>@count</th>\n",
       "      <th>Numeric_counts</th>\n",
       "    </tr>\n",
       "  </thead>\n",
       "  <tbody>\n",
       "    <tr>\n",
       "      <th>0</th>\n",
       "      <td>is bored and wants to watch a movie  any sugge...</td>\n",
       "      <td>0</td>\n",
       "      <td>10</td>\n",
       "      <td>43</td>\n",
       "      <td>4.300000</td>\n",
       "      <td>5</td>\n",
       "      <td>0</td>\n",
       "      <td>0</td>\n",
       "      <td>0</td>\n",
       "    </tr>\n",
       "    <tr>\n",
       "      <th>1</th>\n",
       "      <td>back in miami.  waiting to unboard ship</td>\n",
       "      <td>0</td>\n",
       "      <td>7</td>\n",
       "      <td>32</td>\n",
       "      <td>4.571429</td>\n",
       "      <td>3</td>\n",
       "      <td>0</td>\n",
       "      <td>0</td>\n",
       "      <td>0</td>\n",
       "    </tr>\n",
       "    <tr>\n",
       "      <th>2</th>\n",
       "      <td>@misskpey awwww dnt dis brng bak memoriessss, ...</td>\n",
       "      <td>0</td>\n",
       "      <td>12</td>\n",
       "      <td>54</td>\n",
       "      <td>4.500000</td>\n",
       "      <td>0</td>\n",
       "      <td>0</td>\n",
       "      <td>1</td>\n",
       "      <td>0</td>\n",
       "    </tr>\n",
       "    <tr>\n",
       "      <th>3</th>\n",
       "      <td>ughhh i am so tired  blahhhhhhhhh</td>\n",
       "      <td>0</td>\n",
       "      <td>6</td>\n",
       "      <td>27</td>\n",
       "      <td>4.500000</td>\n",
       "      <td>3</td>\n",
       "      <td>0</td>\n",
       "      <td>0</td>\n",
       "      <td>0</td>\n",
       "    </tr>\n",
       "    <tr>\n",
       "      <th>4</th>\n",
       "      <td>@mandagoforth me bad! It's funny though. Zacha...</td>\n",
       "      <td>0</td>\n",
       "      <td>26</td>\n",
       "      <td>116</td>\n",
       "      <td>4.461538</td>\n",
       "      <td>13</td>\n",
       "      <td>0</td>\n",
       "      <td>2</td>\n",
       "      <td>0</td>\n",
       "    </tr>\n",
       "  </tbody>\n",
       "</table>\n",
       "</div>"
      ],
      "text/plain": [
       "                                              twitts  sentiment  word_counts  \\\n",
       "0  is bored and wants to watch a movie  any sugge...          0           10   \n",
       "1           back in miami.  waiting to unboard ship           0            7   \n",
       "2  @misskpey awwww dnt dis brng bak memoriessss, ...          0           12   \n",
       "3                  ughhh i am so tired  blahhhhhhhhh          0            6   \n",
       "4  @mandagoforth me bad! It's funny though. Zacha...          0           26   \n",
       "\n",
       "   char_counts  average_word_length  stop_words_len  hashtagcount  @count  \\\n",
       "0           43             4.300000               5             0       0   \n",
       "1           32             4.571429               3             0       0   \n",
       "2           54             4.500000               0             0       1   \n",
       "3           27             4.500000               3             0       0   \n",
       "4          116             4.461538              13             0       2   \n",
       "\n",
       "   Numeric_counts  \n",
       "0               0  \n",
       "1               0  \n",
       "2               0  \n",
       "3               0  \n",
       "4               0  "
      ]
     },
     "execution_count": 23,
     "metadata": {},
     "output_type": "execute_result"
    }
   ],
   "source": [
    "df.head()"
   ]
  },
  {
   "cell_type": "markdown",
   "metadata": {},
   "source": [
    "### Upper Case Word Count"
   ]
  },
  {
   "cell_type": "code",
   "execution_count": 24,
   "metadata": {
    "scrolled": true
   },
   "outputs": [
    {
     "data": {
      "text/html": [
       "<div>\n",
       "<style scoped>\n",
       "    .dataframe tbody tr th:only-of-type {\n",
       "        vertical-align: middle;\n",
       "    }\n",
       "\n",
       "    .dataframe tbody tr th {\n",
       "        vertical-align: top;\n",
       "    }\n",
       "\n",
       "    .dataframe thead th {\n",
       "        text-align: right;\n",
       "    }\n",
       "</style>\n",
       "<table border=\"1\" class=\"dataframe\">\n",
       "  <thead>\n",
       "    <tr style=\"text-align: right;\">\n",
       "      <th></th>\n",
       "      <th>twitts</th>\n",
       "      <th>sentiment</th>\n",
       "      <th>word_counts</th>\n",
       "      <th>char_counts</th>\n",
       "      <th>average_word_length</th>\n",
       "      <th>stop_words_len</th>\n",
       "      <th>hashtagcount</th>\n",
       "      <th>@count</th>\n",
       "      <th>Numeric_counts</th>\n",
       "      <th>upper_words_count</th>\n",
       "    </tr>\n",
       "  </thead>\n",
       "  <tbody>\n",
       "    <tr>\n",
       "      <th>0</th>\n",
       "      <td>is bored and wants to watch a movie  any sugge...</td>\n",
       "      <td>0</td>\n",
       "      <td>10</td>\n",
       "      <td>43</td>\n",
       "      <td>4.300000</td>\n",
       "      <td>5</td>\n",
       "      <td>0</td>\n",
       "      <td>0</td>\n",
       "      <td>0</td>\n",
       "      <td>0</td>\n",
       "    </tr>\n",
       "    <tr>\n",
       "      <th>1</th>\n",
       "      <td>back in miami.  waiting to unboard ship</td>\n",
       "      <td>0</td>\n",
       "      <td>7</td>\n",
       "      <td>32</td>\n",
       "      <td>4.571429</td>\n",
       "      <td>3</td>\n",
       "      <td>0</td>\n",
       "      <td>0</td>\n",
       "      <td>0</td>\n",
       "      <td>0</td>\n",
       "    </tr>\n",
       "    <tr>\n",
       "      <th>2</th>\n",
       "      <td>@misskpey awwww dnt dis brng bak memoriessss, ...</td>\n",
       "      <td>0</td>\n",
       "      <td>12</td>\n",
       "      <td>54</td>\n",
       "      <td>4.500000</td>\n",
       "      <td>0</td>\n",
       "      <td>0</td>\n",
       "      <td>1</td>\n",
       "      <td>0</td>\n",
       "      <td>1</td>\n",
       "    </tr>\n",
       "    <tr>\n",
       "      <th>3</th>\n",
       "      <td>ughhh i am so tired  blahhhhhhhhh</td>\n",
       "      <td>0</td>\n",
       "      <td>6</td>\n",
       "      <td>27</td>\n",
       "      <td>4.500000</td>\n",
       "      <td>3</td>\n",
       "      <td>0</td>\n",
       "      <td>0</td>\n",
       "      <td>0</td>\n",
       "      <td>0</td>\n",
       "    </tr>\n",
       "    <tr>\n",
       "      <th>4</th>\n",
       "      <td>@mandagoforth me bad! It's funny though. Zacha...</td>\n",
       "      <td>0</td>\n",
       "      <td>26</td>\n",
       "      <td>116</td>\n",
       "      <td>4.461538</td>\n",
       "      <td>13</td>\n",
       "      <td>0</td>\n",
       "      <td>2</td>\n",
       "      <td>0</td>\n",
       "      <td>0</td>\n",
       "    </tr>\n",
       "  </tbody>\n",
       "</table>\n",
       "</div>"
      ],
      "text/plain": [
       "                                              twitts  sentiment  word_counts  \\\n",
       "0  is bored and wants to watch a movie  any sugge...          0           10   \n",
       "1           back in miami.  waiting to unboard ship           0            7   \n",
       "2  @misskpey awwww dnt dis brng bak memoriessss, ...          0           12   \n",
       "3                  ughhh i am so tired  blahhhhhhhhh          0            6   \n",
       "4  @mandagoforth me bad! It's funny though. Zacha...          0           26   \n",
       "\n",
       "   char_counts  average_word_length  stop_words_len  hashtagcount  @count  \\\n",
       "0           43             4.300000               5             0       0   \n",
       "1           32             4.571429               3             0       0   \n",
       "2           54             4.500000               0             0       1   \n",
       "3           27             4.500000               3             0       0   \n",
       "4          116             4.461538              13             0       2   \n",
       "\n",
       "   Numeric_counts  upper_words_count  \n",
       "0               0                  0  \n",
       "1               0                  0  \n",
       "2               0                  1  \n",
       "3               0                  0  \n",
       "4               0                  0  "
      ]
     },
     "execution_count": 24,
     "metadata": {},
     "output_type": "execute_result"
    }
   ],
   "source": [
    "df[\"upper_words_count\"] = df['twitts'].apply(lambda x:len([i for i in x.split() if i.isupper()]))\n",
    "df.head()"
   ]
  },
  {
   "cell_type": "markdown",
   "metadata": {},
   "source": [
    "### Preprocessing And Cleaning"
   ]
  },
  {
   "cell_type": "markdown",
   "metadata": {},
   "source": [
    "### Lower case conversion"
   ]
  },
  {
   "cell_type": "code",
   "execution_count": 25,
   "metadata": {
    "scrolled": true
   },
   "outputs": [
    {
     "data": {
      "text/html": [
       "<div>\n",
       "<style scoped>\n",
       "    .dataframe tbody tr th:only-of-type {\n",
       "        vertical-align: middle;\n",
       "    }\n",
       "\n",
       "    .dataframe tbody tr th {\n",
       "        vertical-align: top;\n",
       "    }\n",
       "\n",
       "    .dataframe thead th {\n",
       "        text-align: right;\n",
       "    }\n",
       "</style>\n",
       "<table border=\"1\" class=\"dataframe\">\n",
       "  <thead>\n",
       "    <tr style=\"text-align: right;\">\n",
       "      <th></th>\n",
       "      <th>twitts</th>\n",
       "      <th>sentiment</th>\n",
       "      <th>word_counts</th>\n",
       "      <th>char_counts</th>\n",
       "      <th>average_word_length</th>\n",
       "      <th>stop_words_len</th>\n",
       "      <th>hashtagcount</th>\n",
       "      <th>@count</th>\n",
       "      <th>Numeric_counts</th>\n",
       "      <th>upper_words_count</th>\n",
       "    </tr>\n",
       "  </thead>\n",
       "  <tbody>\n",
       "    <tr>\n",
       "      <th>0</th>\n",
       "      <td>is bored and wants to watch a movie  any sugge...</td>\n",
       "      <td>0</td>\n",
       "      <td>10</td>\n",
       "      <td>43</td>\n",
       "      <td>4.300000</td>\n",
       "      <td>5</td>\n",
       "      <td>0</td>\n",
       "      <td>0</td>\n",
       "      <td>0</td>\n",
       "      <td>0</td>\n",
       "    </tr>\n",
       "    <tr>\n",
       "      <th>1</th>\n",
       "      <td>back in miami.  waiting to unboard ship</td>\n",
       "      <td>0</td>\n",
       "      <td>7</td>\n",
       "      <td>32</td>\n",
       "      <td>4.571429</td>\n",
       "      <td>3</td>\n",
       "      <td>0</td>\n",
       "      <td>0</td>\n",
       "      <td>0</td>\n",
       "      <td>0</td>\n",
       "    </tr>\n",
       "    <tr>\n",
       "      <th>2</th>\n",
       "      <td>@misskpey awwww dnt dis brng bak memoriessss, ...</td>\n",
       "      <td>0</td>\n",
       "      <td>12</td>\n",
       "      <td>54</td>\n",
       "      <td>4.500000</td>\n",
       "      <td>0</td>\n",
       "      <td>0</td>\n",
       "      <td>1</td>\n",
       "      <td>0</td>\n",
       "      <td>1</td>\n",
       "    </tr>\n",
       "    <tr>\n",
       "      <th>3</th>\n",
       "      <td>ughhh i am so tired  blahhhhhhhhh</td>\n",
       "      <td>0</td>\n",
       "      <td>6</td>\n",
       "      <td>27</td>\n",
       "      <td>4.500000</td>\n",
       "      <td>3</td>\n",
       "      <td>0</td>\n",
       "      <td>0</td>\n",
       "      <td>0</td>\n",
       "      <td>0</td>\n",
       "    </tr>\n",
       "    <tr>\n",
       "      <th>4</th>\n",
       "      <td>@mandagoforth me bad! it's funny though. zacha...</td>\n",
       "      <td>0</td>\n",
       "      <td>26</td>\n",
       "      <td>116</td>\n",
       "      <td>4.461538</td>\n",
       "      <td>13</td>\n",
       "      <td>0</td>\n",
       "      <td>2</td>\n",
       "      <td>0</td>\n",
       "      <td>0</td>\n",
       "    </tr>\n",
       "  </tbody>\n",
       "</table>\n",
       "</div>"
      ],
      "text/plain": [
       "                                              twitts  sentiment  word_counts  \\\n",
       "0  is bored and wants to watch a movie  any sugge...          0           10   \n",
       "1           back in miami.  waiting to unboard ship           0            7   \n",
       "2  @misskpey awwww dnt dis brng bak memoriessss, ...          0           12   \n",
       "3                  ughhh i am so tired  blahhhhhhhhh          0            6   \n",
       "4  @mandagoforth me bad! it's funny though. zacha...          0           26   \n",
       "\n",
       "   char_counts  average_word_length  stop_words_len  hashtagcount  @count  \\\n",
       "0           43             4.300000               5             0       0   \n",
       "1           32             4.571429               3             0       0   \n",
       "2           54             4.500000               0             0       1   \n",
       "3           27             4.500000               3             0       0   \n",
       "4          116             4.461538              13             0       2   \n",
       "\n",
       "   Numeric_counts  upper_words_count  \n",
       "0               0                  0  \n",
       "1               0                  0  \n",
       "2               0                  1  \n",
       "3               0                  0  \n",
       "4               0                  0  "
      ]
     },
     "execution_count": 25,
     "metadata": {},
     "output_type": "execute_result"
    }
   ],
   "source": [
    "df['twitts'] = df['twitts'].apply(lambda x: str(x).lower())\n",
    "df.head()"
   ]
  },
  {
   "cell_type": "markdown",
   "metadata": {},
   "source": [
    "### Contraction to expansion"
   ]
  },
  {
   "cell_type": "code",
   "execution_count": 26,
   "metadata": {},
   "outputs": [],
   "source": [
    "contractions = { \"ain't\": \"am not\",\"aren't\": \"are not\",\"can't\": \"cannot\",\"can't've\": \"cannot have\",\n",
    "# \"'cause\": \"because\",\n",
    "\"could've\": \"could have\",\"couldn't\": \"could not\",\"couldn't've\": \"could not have\",\"didn't\": \"did not\",\"doesn't\": \"does not\",\n",
    "\"don't\": \"do not\",\"hadn't\": \"had not\",\"hadn't've\": \"had not have\",\"hasn't\": \"has not\",\"haven't\": \"have not\",\n",
    "\"he'd\": \"he had\",\"he'd've\": \"he would have\",\"he'll\": \"he will\",\"he'll've\": \"he will have\",\"he's\": \"he is\",\n",
    "\"how'd\": \"how did\",\"how'd'y\": \"how do you\",\"how'll\": \"how will\",\"I'd\": \"I had\",\"I'd've\": \"I would have\",\n",
    "\"I'll\": \"I will\",\"I'll've\": \"I will have\",\"I'm\": \"I am\",\"I've\": \"I have\",\"isn't\": \"is not\",\"it'd\": \"it had\",\n",
    "\"it'd've\": \"it would have\",\"it'll\": \"it will\",\"it'll've\": \"it will have\",\"it's\": \"it has\",\"let's\": \"let us\",\n",
    "\"ma'am\": \"madam\",\"mayn't\": \"may not\",\"might've\": \"might have\",\"mightn't\": \"might not\",\"mightn't've\": \"might not have\",\n",
    "\"must've\": \"must have\",\"mustn't\": \"must not\",\"mustn't've\": \"must not have\",\"needn't\": \"need not\",\n",
    "\"needn't've\": \"need not have\",\"o'clock\": \"of the clock\",\"oughtn't\": \"ought not\",\"oughtn't've\": \"ought not have\",\n",
    "\"shan't\": \"shall not\",\"sha'n't\": \"shall not\",\"shan't've\": \"shall not have\",\"she'd\": \"she would\",\n",
    "\"she'd've\": \"she would have\",\"she'll\": \"she will\",\"she'll've\": \"she will have\",\"she's\": \"she is\",\n",
    "\"should've\": \"should have\",\"shouldn't\": \"should not\",\"shouldn't've\": \"should not have\",\"so've\": \"so have\",\n",
    "\"so's\": \"so is\",\"that'd\": \"that would\",\"that'd've\": \"that would have\",\"there'd've\": \"there would have\",\n",
    "\"they'd've\": \"they would have\",\"they'll\": \"they will\",\"they'll've\": \"they will have\",\"they're\": \"they are\",\n",
    "\"they've\": \"they have\",\"to've\": \"to have\",\"wasn't\": \"was not\",\"we'd\": \"we would\",\"we'd've\": \"we would have\",\n",
    "\"we'll\": \"we will\",\"we'll've\": \"we will have\",\"we're\": \"we are\",\"we've\": \"we have\",\"weren't\": \"were not\",\n",
    "\"what'll\": \"what will\",\"what'll've\": \"what will have\",\"what're\": \"what are\",\"what've\": \"what have\",\n",
    "\"when've\": \"when have\",\"where'd\": \"where did\",\"where've\": \"where have\",\"who'll\": \"who will\",\n",
    "\"who'll've\": \"who will have\",\"who's\": \"who is\",\"who've\": \"who have\",\"why've\": \"why have\",\"will've\": \"will have\",\n",
    "\"won't\": \"will not\",\"won't've\": \"will not have\",\"would've\": \"would have\",\"wouldn't\": \"would not\",\n",
    "\"wouldn't've\": \"would not have\",\"y'all\": \"you all\",\"y'all'd\": \"you all would\",\"y'all'd've\": \"you all would have\",\n",
    "\"y'all're\": \"you all are\",\"y'all've\": \"you all have\",\"you'd\": \"you would\",\"you'd've\": \"you would have\",\n",
    "\"you'll\": \"you will\",\"you'll've\": \"you will have\",\"you're\": \"you are\",\"you've\": \"you have\"\n",
    "}"
   ]
  },
  {
   "cell_type": "code",
   "execution_count": 27,
   "metadata": {},
   "outputs": [],
   "source": [
    "def cont_to_exp(x):\n",
    "    if type(x) is str:\n",
    "        for key in contractions:\n",
    "            value = contractions[key]\n",
    "            x = x.replace(key,value)\n",
    "        return x\n",
    "    else:\n",
    "        return x"
   ]
  },
  {
   "cell_type": "code",
   "execution_count": 28,
   "metadata": {},
   "outputs": [
    {
     "data": {
      "text/plain": [
       "'I cannot study'"
      ]
     },
     "execution_count": 28,
     "metadata": {},
     "output_type": "execute_result"
    }
   ],
   "source": [
    "cont_to_exp(\"I can't study\")"
   ]
  },
  {
   "cell_type": "code",
   "execution_count": 29,
   "metadata": {},
   "outputs": [
    {
     "name": "stdout",
     "output_type": "stream",
     "text": [
      "124 ms ± 1.79 ms per loop (mean ± std. dev. of 7 runs, 10 loops each)\n"
     ]
    }
   ],
   "source": [
    "%%timeit\n",
    "df['twitts'] = df['twitts'].apply(lambda x : cont_to_exp(x))"
   ]
  },
  {
   "cell_type": "code",
   "execution_count": 30,
   "metadata": {
    "scrolled": true
   },
   "outputs": [
    {
     "data": {
      "text/html": [
       "<div>\n",
       "<style scoped>\n",
       "    .dataframe tbody tr th:only-of-type {\n",
       "        vertical-align: middle;\n",
       "    }\n",
       "\n",
       "    .dataframe tbody tr th {\n",
       "        vertical-align: top;\n",
       "    }\n",
       "\n",
       "    .dataframe thead th {\n",
       "        text-align: right;\n",
       "    }\n",
       "</style>\n",
       "<table border=\"1\" class=\"dataframe\">\n",
       "  <thead>\n",
       "    <tr style=\"text-align: right;\">\n",
       "      <th></th>\n",
       "      <th>twitts</th>\n",
       "      <th>sentiment</th>\n",
       "      <th>word_counts</th>\n",
       "      <th>char_counts</th>\n",
       "      <th>average_word_length</th>\n",
       "      <th>stop_words_len</th>\n",
       "      <th>hashtagcount</th>\n",
       "      <th>@count</th>\n",
       "      <th>Numeric_counts</th>\n",
       "      <th>upper_words_count</th>\n",
       "    </tr>\n",
       "  </thead>\n",
       "  <tbody>\n",
       "    <tr>\n",
       "      <th>3291</th>\n",
       "      <td>@chriscyvas you know what, i returned that dam...</td>\n",
       "      <td>1</td>\n",
       "      <td>20</td>\n",
       "      <td>88</td>\n",
       "      <td>4.400000</td>\n",
       "      <td>6</td>\n",
       "      <td>0</td>\n",
       "      <td>1</td>\n",
       "      <td>0</td>\n",
       "      <td>1</td>\n",
       "    </tr>\n",
       "    <tr>\n",
       "      <th>810</th>\n",
       "      <td>is leaving tonight</td>\n",
       "      <td>0</td>\n",
       "      <td>3</td>\n",
       "      <td>16</td>\n",
       "      <td>5.333333</td>\n",
       "      <td>1</td>\n",
       "      <td>0</td>\n",
       "      <td>0</td>\n",
       "      <td>0</td>\n",
       "      <td>0</td>\n",
       "    </tr>\n",
       "    <tr>\n",
       "      <th>532</th>\n",
       "      <td>is sick -.-&amp;quot; , loving work experiance&amp;lt;...</td>\n",
       "      <td>0</td>\n",
       "      <td>11</td>\n",
       "      <td>60</td>\n",
       "      <td>5.454545</td>\n",
       "      <td>2</td>\n",
       "      <td>0</td>\n",
       "      <td>0</td>\n",
       "      <td>0</td>\n",
       "      <td>0</td>\n",
       "    </tr>\n",
       "    <tr>\n",
       "      <th>1163</th>\n",
       "      <td>young sparrows, please note. do not come indoo...</td>\n",
       "      <td>0</td>\n",
       "      <td>7</td>\n",
       "      <td>42</td>\n",
       "      <td>6.000000</td>\n",
       "      <td>1</td>\n",
       "      <td>0</td>\n",
       "      <td>0</td>\n",
       "      <td>0</td>\n",
       "      <td>0</td>\n",
       "    </tr>\n",
       "    <tr>\n",
       "      <th>2417</th>\n",
       "      <td>@audreywallis i love that movie</td>\n",
       "      <td>1</td>\n",
       "      <td>5</td>\n",
       "      <td>27</td>\n",
       "      <td>5.400000</td>\n",
       "      <td>1</td>\n",
       "      <td>0</td>\n",
       "      <td>1</td>\n",
       "      <td>0</td>\n",
       "      <td>2</td>\n",
       "    </tr>\n",
       "  </tbody>\n",
       "</table>\n",
       "</div>"
      ],
      "text/plain": [
       "                                                 twitts  sentiment  \\\n",
       "3291  @chriscyvas you know what, i returned that dam...          1   \n",
       "810                                 is leaving tonight           0   \n",
       "532   is sick -.-&quot; , loving work experiance&lt;...          0   \n",
       "1163  young sparrows, please note. do not come indoo...          0   \n",
       "2417                   @audreywallis i love that movie           1   \n",
       "\n",
       "      word_counts  char_counts  average_word_length  stop_words_len  \\\n",
       "3291           20           88             4.400000               6   \n",
       "810             3           16             5.333333               1   \n",
       "532            11           60             5.454545               2   \n",
       "1163            7           42             6.000000               1   \n",
       "2417            5           27             5.400000               1   \n",
       "\n",
       "      hashtagcount  @count  Numeric_counts  upper_words_count  \n",
       "3291             0       1               0                  1  \n",
       "810              0       0               0                  0  \n",
       "532              0       0               0                  0  \n",
       "1163             0       0               0                  0  \n",
       "2417             0       1               0                  2  "
      ]
     },
     "execution_count": 30,
     "metadata": {},
     "output_type": "execute_result"
    }
   ],
   "source": [
    "df.sample(5)"
   ]
  },
  {
   "cell_type": "markdown",
   "metadata": {},
   "source": [
    "### Remove Email"
   ]
  },
  {
   "cell_type": "code",
   "execution_count": 31,
   "metadata": {},
   "outputs": [],
   "source": [
    "# df[df['twitts'].str.contains(\".com\")]"
   ]
  },
  {
   "cell_type": "code",
   "execution_count": 32,
   "metadata": {},
   "outputs": [],
   "source": [
    "import re"
   ]
  },
  {
   "cell_type": "code",
   "execution_count": 33,
   "metadata": {
    "scrolled": false
   },
   "outputs": [
    {
     "data": {
      "text/plain": [
       "['abc@gmail.com']"
      ]
     },
     "execution_count": 33,
     "metadata": {},
     "output_type": "execute_result"
    }
   ],
   "source": [
    "x = \"abc@gmail.com is abc\"\n",
    "re.findall(\"([a-zA-Z0-9_.+-]+@[a-zA-Z0-9-]+\\.[a-zA-Z0-9-.]+)\", x)"
   ]
  },
  {
   "cell_type": "code",
   "execution_count": 34,
   "metadata": {},
   "outputs": [
    {
     "data": {
      "text/plain": [
       "[]"
      ]
     },
     "execution_count": 34,
     "metadata": {},
     "output_type": "execute_result"
    }
   ],
   "source": [
    "x = \"abc@gmail.com is abc\"\n",
    "re.findall(\"([a-zA-Z0-9_.+-]+@[a-zA-Z0-9-]+\\.[a-zA-Z0-9-.]+\\b)\", x)"
   ]
  },
  {
   "cell_type": "code",
   "execution_count": 35,
   "metadata": {
    "scrolled": true
   },
   "outputs": [],
   "source": [
    "df[\"emails\"] = df['twitts'].apply(lambda x: re.findall(\"([a-zA-Z0-9_.+-]+@[a-zA-Z0-9-]+\\.[a-zA-Z0-9-.]+)\", x))"
   ]
  },
  {
   "cell_type": "code",
   "execution_count": 36,
   "metadata": {
    "scrolled": true
   },
   "outputs": [
    {
     "data": {
      "text/html": [
       "<div>\n",
       "<style scoped>\n",
       "    .dataframe tbody tr th:only-of-type {\n",
       "        vertical-align: middle;\n",
       "    }\n",
       "\n",
       "    .dataframe tbody tr th {\n",
       "        vertical-align: top;\n",
       "    }\n",
       "\n",
       "    .dataframe thead th {\n",
       "        text-align: right;\n",
       "    }\n",
       "</style>\n",
       "<table border=\"1\" class=\"dataframe\">\n",
       "  <thead>\n",
       "    <tr style=\"text-align: right;\">\n",
       "      <th></th>\n",
       "      <th>twitts</th>\n",
       "      <th>sentiment</th>\n",
       "      <th>word_counts</th>\n",
       "      <th>char_counts</th>\n",
       "      <th>average_word_length</th>\n",
       "      <th>stop_words_len</th>\n",
       "      <th>hashtagcount</th>\n",
       "      <th>@count</th>\n",
       "      <th>Numeric_counts</th>\n",
       "      <th>upper_words_count</th>\n",
       "      <th>emails</th>\n",
       "      <th>email_count</th>\n",
       "    </tr>\n",
       "  </thead>\n",
       "  <tbody>\n",
       "    <tr>\n",
       "      <th>0</th>\n",
       "      <td>is bored and wants to watch a movie  any sugge...</td>\n",
       "      <td>0</td>\n",
       "      <td>10</td>\n",
       "      <td>43</td>\n",
       "      <td>4.300000</td>\n",
       "      <td>5</td>\n",
       "      <td>0</td>\n",
       "      <td>0</td>\n",
       "      <td>0</td>\n",
       "      <td>0</td>\n",
       "      <td>[]</td>\n",
       "      <td>0</td>\n",
       "    </tr>\n",
       "    <tr>\n",
       "      <th>1</th>\n",
       "      <td>back in miami.  waiting to unboard ship</td>\n",
       "      <td>0</td>\n",
       "      <td>7</td>\n",
       "      <td>32</td>\n",
       "      <td>4.571429</td>\n",
       "      <td>3</td>\n",
       "      <td>0</td>\n",
       "      <td>0</td>\n",
       "      <td>0</td>\n",
       "      <td>0</td>\n",
       "      <td>[]</td>\n",
       "      <td>0</td>\n",
       "    </tr>\n",
       "    <tr>\n",
       "      <th>2</th>\n",
       "      <td>@misskpey awwww dnt dis brng bak memoriessss, ...</td>\n",
       "      <td>0</td>\n",
       "      <td>12</td>\n",
       "      <td>54</td>\n",
       "      <td>4.500000</td>\n",
       "      <td>0</td>\n",
       "      <td>0</td>\n",
       "      <td>1</td>\n",
       "      <td>0</td>\n",
       "      <td>1</td>\n",
       "      <td>[]</td>\n",
       "      <td>0</td>\n",
       "    </tr>\n",
       "    <tr>\n",
       "      <th>3</th>\n",
       "      <td>ughhh i am so tired  blahhhhhhhhh</td>\n",
       "      <td>0</td>\n",
       "      <td>6</td>\n",
       "      <td>27</td>\n",
       "      <td>4.500000</td>\n",
       "      <td>3</td>\n",
       "      <td>0</td>\n",
       "      <td>0</td>\n",
       "      <td>0</td>\n",
       "      <td>0</td>\n",
       "      <td>[]</td>\n",
       "      <td>0</td>\n",
       "    </tr>\n",
       "    <tr>\n",
       "      <th>4</th>\n",
       "      <td>@mandagoforth me bad! it has funny though. zac...</td>\n",
       "      <td>0</td>\n",
       "      <td>26</td>\n",
       "      <td>116</td>\n",
       "      <td>4.461538</td>\n",
       "      <td>13</td>\n",
       "      <td>0</td>\n",
       "      <td>2</td>\n",
       "      <td>0</td>\n",
       "      <td>0</td>\n",
       "      <td>[]</td>\n",
       "      <td>0</td>\n",
       "    </tr>\n",
       "  </tbody>\n",
       "</table>\n",
       "</div>"
      ],
      "text/plain": [
       "                                              twitts  sentiment  word_counts  \\\n",
       "0  is bored and wants to watch a movie  any sugge...          0           10   \n",
       "1           back in miami.  waiting to unboard ship           0            7   \n",
       "2  @misskpey awwww dnt dis brng bak memoriessss, ...          0           12   \n",
       "3                  ughhh i am so tired  blahhhhhhhhh          0            6   \n",
       "4  @mandagoforth me bad! it has funny though. zac...          0           26   \n",
       "\n",
       "   char_counts  average_word_length  stop_words_len  hashtagcount  @count  \\\n",
       "0           43             4.300000               5             0       0   \n",
       "1           32             4.571429               3             0       0   \n",
       "2           54             4.500000               0             0       1   \n",
       "3           27             4.500000               3             0       0   \n",
       "4          116             4.461538              13             0       2   \n",
       "\n",
       "   Numeric_counts  upper_words_count emails  email_count  \n",
       "0               0                  0     []            0  \n",
       "1               0                  0     []            0  \n",
       "2               0                  1     []            0  \n",
       "3               0                  0     []            0  \n",
       "4               0                  0     []            0  "
      ]
     },
     "execution_count": 36,
     "metadata": {},
     "output_type": "execute_result"
    }
   ],
   "source": [
    "df['email_count'] = df[\"emails\"].apply(lambda x: len(x))\n",
    "df.head()"
   ]
  },
  {
   "cell_type": "code",
   "execution_count": 37,
   "metadata": {},
   "outputs": [
    {
     "data": {
      "text/html": [
       "<div>\n",
       "<style scoped>\n",
       "    .dataframe tbody tr th:only-of-type {\n",
       "        vertical-align: middle;\n",
       "    }\n",
       "\n",
       "    .dataframe tbody tr th {\n",
       "        vertical-align: top;\n",
       "    }\n",
       "\n",
       "    .dataframe thead th {\n",
       "        text-align: right;\n",
       "    }\n",
       "</style>\n",
       "<table border=\"1\" class=\"dataframe\">\n",
       "  <thead>\n",
       "    <tr style=\"text-align: right;\">\n",
       "      <th></th>\n",
       "      <th>twitts</th>\n",
       "      <th>sentiment</th>\n",
       "      <th>word_counts</th>\n",
       "      <th>char_counts</th>\n",
       "      <th>average_word_length</th>\n",
       "      <th>stop_words_len</th>\n",
       "      <th>hashtagcount</th>\n",
       "      <th>@count</th>\n",
       "      <th>Numeric_counts</th>\n",
       "      <th>upper_words_count</th>\n",
       "      <th>emails</th>\n",
       "      <th>email_count</th>\n",
       "    </tr>\n",
       "  </thead>\n",
       "  <tbody>\n",
       "    <tr>\n",
       "      <th>3713</th>\n",
       "      <td>@securerecs arghh me please  markbradbury_16@h...</td>\n",
       "      <td>1</td>\n",
       "      <td>5</td>\n",
       "      <td>51</td>\n",
       "      <td>10.2</td>\n",
       "      <td>0</td>\n",
       "      <td>0</td>\n",
       "      <td>1</td>\n",
       "      <td>0</td>\n",
       "      <td>0</td>\n",
       "      <td>[markbradbury_16@hotmail.com]</td>\n",
       "      <td>1</td>\n",
       "    </tr>\n",
       "  </tbody>\n",
       "</table>\n",
       "</div>"
      ],
      "text/plain": [
       "                                                 twitts  sentiment  \\\n",
       "3713  @securerecs arghh me please  markbradbury_16@h...          1   \n",
       "\n",
       "      word_counts  char_counts  average_word_length  stop_words_len  \\\n",
       "3713            5           51                 10.2               0   \n",
       "\n",
       "      hashtagcount  @count  Numeric_counts  upper_words_count  \\\n",
       "3713             0       1               0                  0   \n",
       "\n",
       "                             emails  email_count  \n",
       "3713  [markbradbury_16@hotmail.com]            1  "
      ]
     },
     "execution_count": 37,
     "metadata": {},
     "output_type": "execute_result"
    }
   ],
   "source": [
    "df[df.email_count>0]"
   ]
  },
  {
   "cell_type": "code",
   "execution_count": 38,
   "metadata": {},
   "outputs": [
    {
     "data": {
      "text/plain": [
       "' is abc'"
      ]
     },
     "execution_count": 38,
     "metadata": {},
     "output_type": "execute_result"
    }
   ],
   "source": [
    "x = \"abc@gmail.com is abc\"\n",
    "re.sub(\"([a-zA-Z0-9_.+-]+@[a-zA-Z0-9-]+\\.[a-zA-Z0-9-.]+)\",\"\" ,x)"
   ]
  },
  {
   "cell_type": "code",
   "execution_count": 39,
   "metadata": {},
   "outputs": [],
   "source": [
    "df['twitts'] = df['twitts'].apply(lambda x: re.sub(\"([a-zA-Z0-9_.+-]+@[a-zA-Z0-9-]+\\.[a-zA-Z0-9-.]+)\",\"\" ,x) )"
   ]
  },
  {
   "cell_type": "code",
   "execution_count": 40,
   "metadata": {},
   "outputs": [
    {
     "data": {
      "text/plain": [
       "'@securerecs arghh me please  '"
      ]
     },
     "execution_count": 40,
     "metadata": {},
     "output_type": "execute_result"
    }
   ],
   "source": [
    "df.iloc[3713]['twitts']"
   ]
  },
  {
   "cell_type": "markdown",
   "metadata": {},
   "source": [
    "### Remove Urls"
   ]
  },
  {
   "cell_type": "code",
   "execution_count": 41,
   "metadata": {},
   "outputs": [],
   "source": [
    "# stack overflow\n",
    "url = '<p>Hello World</p><a href=\"http://example.com\">More Examples</a><a href=\"http://example2.com\">Even More Examples</a>'\n",
    "urls = re.findall('https?://(?:[-\\w.]|(?:%[\\da-fA-F]{2}))+', url)"
   ]
  },
  {
   "cell_type": "code",
   "execution_count": 42,
   "metadata": {},
   "outputs": [
    {
     "data": {
      "text/plain": [
       "['http://example.com', 'http://example2.com']"
      ]
     },
     "execution_count": 42,
     "metadata": {},
     "output_type": "execute_result"
    }
   ],
   "source": [
    "urls"
   ]
  },
  {
   "cell_type": "code",
   "execution_count": 43,
   "metadata": {},
   "outputs": [],
   "source": [
    "df['url_counts'] = df['twitts'].apply(lambda x: len(re.findall('https?://(?:[-\\w.]|(?:%[\\da-fA-F]{2}))+', x)))"
   ]
  },
  {
   "cell_type": "code",
   "execution_count": 44,
   "metadata": {
    "scrolled": true
   },
   "outputs": [
    {
     "data": {
      "text/html": [
       "<div>\n",
       "<style scoped>\n",
       "    .dataframe tbody tr th:only-of-type {\n",
       "        vertical-align: middle;\n",
       "    }\n",
       "\n",
       "    .dataframe tbody tr th {\n",
       "        vertical-align: top;\n",
       "    }\n",
       "\n",
       "    .dataframe thead th {\n",
       "        text-align: right;\n",
       "    }\n",
       "</style>\n",
       "<table border=\"1\" class=\"dataframe\">\n",
       "  <thead>\n",
       "    <tr style=\"text-align: right;\">\n",
       "      <th></th>\n",
       "      <th>twitts</th>\n",
       "      <th>sentiment</th>\n",
       "      <th>word_counts</th>\n",
       "      <th>char_counts</th>\n",
       "      <th>average_word_length</th>\n",
       "      <th>stop_words_len</th>\n",
       "      <th>hashtagcount</th>\n",
       "      <th>@count</th>\n",
       "      <th>Numeric_counts</th>\n",
       "      <th>upper_words_count</th>\n",
       "      <th>emails</th>\n",
       "      <th>email_count</th>\n",
       "      <th>url_counts</th>\n",
       "    </tr>\n",
       "  </thead>\n",
       "  <tbody>\n",
       "    <tr>\n",
       "      <th>0</th>\n",
       "      <td>is bored and wants to watch a movie  any sugge...</td>\n",
       "      <td>0</td>\n",
       "      <td>10</td>\n",
       "      <td>43</td>\n",
       "      <td>4.300000</td>\n",
       "      <td>5</td>\n",
       "      <td>0</td>\n",
       "      <td>0</td>\n",
       "      <td>0</td>\n",
       "      <td>0</td>\n",
       "      <td>[]</td>\n",
       "      <td>0</td>\n",
       "      <td>0</td>\n",
       "    </tr>\n",
       "    <tr>\n",
       "      <th>1</th>\n",
       "      <td>back in miami.  waiting to unboard ship</td>\n",
       "      <td>0</td>\n",
       "      <td>7</td>\n",
       "      <td>32</td>\n",
       "      <td>4.571429</td>\n",
       "      <td>3</td>\n",
       "      <td>0</td>\n",
       "      <td>0</td>\n",
       "      <td>0</td>\n",
       "      <td>0</td>\n",
       "      <td>[]</td>\n",
       "      <td>0</td>\n",
       "      <td>0</td>\n",
       "    </tr>\n",
       "    <tr>\n",
       "      <th>2</th>\n",
       "      <td>@misskpey awwww dnt dis brng bak memoriessss, ...</td>\n",
       "      <td>0</td>\n",
       "      <td>12</td>\n",
       "      <td>54</td>\n",
       "      <td>4.500000</td>\n",
       "      <td>0</td>\n",
       "      <td>0</td>\n",
       "      <td>1</td>\n",
       "      <td>0</td>\n",
       "      <td>1</td>\n",
       "      <td>[]</td>\n",
       "      <td>0</td>\n",
       "      <td>0</td>\n",
       "    </tr>\n",
       "    <tr>\n",
       "      <th>3</th>\n",
       "      <td>ughhh i am so tired  blahhhhhhhhh</td>\n",
       "      <td>0</td>\n",
       "      <td>6</td>\n",
       "      <td>27</td>\n",
       "      <td>4.500000</td>\n",
       "      <td>3</td>\n",
       "      <td>0</td>\n",
       "      <td>0</td>\n",
       "      <td>0</td>\n",
       "      <td>0</td>\n",
       "      <td>[]</td>\n",
       "      <td>0</td>\n",
       "      <td>0</td>\n",
       "    </tr>\n",
       "    <tr>\n",
       "      <th>4</th>\n",
       "      <td>@mandagoforth me bad! it has funny though. zac...</td>\n",
       "      <td>0</td>\n",
       "      <td>26</td>\n",
       "      <td>116</td>\n",
       "      <td>4.461538</td>\n",
       "      <td>13</td>\n",
       "      <td>0</td>\n",
       "      <td>2</td>\n",
       "      <td>0</td>\n",
       "      <td>0</td>\n",
       "      <td>[]</td>\n",
       "      <td>0</td>\n",
       "      <td>0</td>\n",
       "    </tr>\n",
       "  </tbody>\n",
       "</table>\n",
       "</div>"
      ],
      "text/plain": [
       "                                              twitts  sentiment  word_counts  \\\n",
       "0  is bored and wants to watch a movie  any sugge...          0           10   \n",
       "1           back in miami.  waiting to unboard ship           0            7   \n",
       "2  @misskpey awwww dnt dis brng bak memoriessss, ...          0           12   \n",
       "3                  ughhh i am so tired  blahhhhhhhhh          0            6   \n",
       "4  @mandagoforth me bad! it has funny though. zac...          0           26   \n",
       "\n",
       "   char_counts  average_word_length  stop_words_len  hashtagcount  @count  \\\n",
       "0           43             4.300000               5             0       0   \n",
       "1           32             4.571429               3             0       0   \n",
       "2           54             4.500000               0             0       1   \n",
       "3           27             4.500000               3             0       0   \n",
       "4          116             4.461538              13             0       2   \n",
       "\n",
       "   Numeric_counts  upper_words_count emails  email_count  url_counts  \n",
       "0               0                  0     []            0           0  \n",
       "1               0                  0     []            0           0  \n",
       "2               0                  1     []            0           0  \n",
       "3               0                  0     []            0           0  \n",
       "4               0                  0     []            0           0  "
      ]
     },
     "execution_count": 44,
     "metadata": {},
     "output_type": "execute_result"
    }
   ],
   "source": [
    "df.head()"
   ]
  },
  {
   "cell_type": "code",
   "execution_count": 45,
   "metadata": {},
   "outputs": [],
   "source": [
    "df['twitts'] = df['twitts'].apply(lambda x: re.sub('https?://(?:[-\\w.]|(?:%[\\da-fA-F]{2}))+', \"\",str(x)))"
   ]
  },
  {
   "cell_type": "markdown",
   "metadata": {},
   "source": [
    "### Remove RT (Retweet)"
   ]
  },
  {
   "cell_type": "code",
   "execution_count": 46,
   "metadata": {},
   "outputs": [
    {
     "data": {
      "text/plain": [
       "':username'"
      ]
     },
     "execution_count": 46,
     "metadata": {},
     "output_type": "execute_result"
    }
   ],
   "source": [
    "re.sub(r\"\\brt\\b\",\"\",\"rt:username\").strip()"
   ]
  },
  {
   "cell_type": "code",
   "execution_count": 47,
   "metadata": {},
   "outputs": [],
   "source": [
    "df['twitts'] = df[\"twitts\"].apply(lambda x : re.sub(r\"\\brt\\b\",\"\",str(x)).strip())"
   ]
  },
  {
   "cell_type": "markdown",
   "metadata": {},
   "source": [
    "### Remove Special Characters"
   ]
  },
  {
   "cell_type": "code",
   "execution_count": 48,
   "metadata": {
    "scrolled": false
   },
   "outputs": [
    {
     "data": {
      "text/html": [
       "<div>\n",
       "<style scoped>\n",
       "    .dataframe tbody tr th:only-of-type {\n",
       "        vertical-align: middle;\n",
       "    }\n",
       "\n",
       "    .dataframe tbody tr th {\n",
       "        vertical-align: top;\n",
       "    }\n",
       "\n",
       "    .dataframe thead th {\n",
       "        text-align: right;\n",
       "    }\n",
       "</style>\n",
       "<table border=\"1\" class=\"dataframe\">\n",
       "  <thead>\n",
       "    <tr style=\"text-align: right;\">\n",
       "      <th></th>\n",
       "      <th>twitts</th>\n",
       "      <th>sentiment</th>\n",
       "      <th>word_counts</th>\n",
       "      <th>char_counts</th>\n",
       "      <th>average_word_length</th>\n",
       "      <th>stop_words_len</th>\n",
       "      <th>hashtagcount</th>\n",
       "      <th>@count</th>\n",
       "      <th>Numeric_counts</th>\n",
       "      <th>upper_words_count</th>\n",
       "      <th>emails</th>\n",
       "      <th>email_count</th>\n",
       "      <th>url_counts</th>\n",
       "    </tr>\n",
       "  </thead>\n",
       "  <tbody>\n",
       "    <tr>\n",
       "      <th>0</th>\n",
       "      <td>is bored and wants to watch a movie  any sugge...</td>\n",
       "      <td>0</td>\n",
       "      <td>10</td>\n",
       "      <td>43</td>\n",
       "      <td>4.300000</td>\n",
       "      <td>5</td>\n",
       "      <td>0</td>\n",
       "      <td>0</td>\n",
       "      <td>0</td>\n",
       "      <td>0</td>\n",
       "      <td>[]</td>\n",
       "      <td>0</td>\n",
       "      <td>0</td>\n",
       "    </tr>\n",
       "    <tr>\n",
       "      <th>1</th>\n",
       "      <td>back in miami.  waiting to unboard ship</td>\n",
       "      <td>0</td>\n",
       "      <td>7</td>\n",
       "      <td>32</td>\n",
       "      <td>4.571429</td>\n",
       "      <td>3</td>\n",
       "      <td>0</td>\n",
       "      <td>0</td>\n",
       "      <td>0</td>\n",
       "      <td>0</td>\n",
       "      <td>[]</td>\n",
       "      <td>0</td>\n",
       "      <td>0</td>\n",
       "    </tr>\n",
       "    <tr>\n",
       "      <th>2</th>\n",
       "      <td>@misskpey awwww dnt dis brng bak memoriessss, ...</td>\n",
       "      <td>0</td>\n",
       "      <td>12</td>\n",
       "      <td>54</td>\n",
       "      <td>4.500000</td>\n",
       "      <td>0</td>\n",
       "      <td>0</td>\n",
       "      <td>1</td>\n",
       "      <td>0</td>\n",
       "      <td>1</td>\n",
       "      <td>[]</td>\n",
       "      <td>0</td>\n",
       "      <td>0</td>\n",
       "    </tr>\n",
       "    <tr>\n",
       "      <th>3</th>\n",
       "      <td>ughhh i am so tired  blahhhhhhhhh</td>\n",
       "      <td>0</td>\n",
       "      <td>6</td>\n",
       "      <td>27</td>\n",
       "      <td>4.500000</td>\n",
       "      <td>3</td>\n",
       "      <td>0</td>\n",
       "      <td>0</td>\n",
       "      <td>0</td>\n",
       "      <td>0</td>\n",
       "      <td>[]</td>\n",
       "      <td>0</td>\n",
       "      <td>0</td>\n",
       "    </tr>\n",
       "    <tr>\n",
       "      <th>4</th>\n",
       "      <td>@mandagoforth me bad! it has funny though. zac...</td>\n",
       "      <td>0</td>\n",
       "      <td>26</td>\n",
       "      <td>116</td>\n",
       "      <td>4.461538</td>\n",
       "      <td>13</td>\n",
       "      <td>0</td>\n",
       "      <td>2</td>\n",
       "      <td>0</td>\n",
       "      <td>0</td>\n",
       "      <td>[]</td>\n",
       "      <td>0</td>\n",
       "      <td>0</td>\n",
       "    </tr>\n",
       "  </tbody>\n",
       "</table>\n",
       "</div>"
      ],
      "text/plain": [
       "                                              twitts  sentiment  word_counts  \\\n",
       "0  is bored and wants to watch a movie  any sugge...          0           10   \n",
       "1            back in miami.  waiting to unboard ship          0            7   \n",
       "2  @misskpey awwww dnt dis brng bak memoriessss, ...          0           12   \n",
       "3                  ughhh i am so tired  blahhhhhhhhh          0            6   \n",
       "4  @mandagoforth me bad! it has funny though. zac...          0           26   \n",
       "\n",
       "   char_counts  average_word_length  stop_words_len  hashtagcount  @count  \\\n",
       "0           43             4.300000               5             0       0   \n",
       "1           32             4.571429               3             0       0   \n",
       "2           54             4.500000               0             0       1   \n",
       "3           27             4.500000               3             0       0   \n",
       "4          116             4.461538              13             0       2   \n",
       "\n",
       "   Numeric_counts  upper_words_count emails  email_count  url_counts  \n",
       "0               0                  0     []            0           0  \n",
       "1               0                  0     []            0           0  \n",
       "2               0                  1     []            0           0  \n",
       "3               0                  0     []            0           0  \n",
       "4               0                  0     []            0           0  "
      ]
     },
     "execution_count": 48,
     "metadata": {},
     "output_type": "execute_result"
    }
   ],
   "source": [
    "df.head()"
   ]
  },
  {
   "cell_type": "code",
   "execution_count": 49,
   "metadata": {
    "scrolled": true
   },
   "outputs": [],
   "source": [
    "df['twitts'] = df[\"twitts\"].apply(lambda x: re.sub(r\"[^\\w ]+\",\" \",x))"
   ]
  },
  {
   "cell_type": "code",
   "execution_count": 50,
   "metadata": {},
   "outputs": [
    {
     "data": {
      "text/html": [
       "<div>\n",
       "<style scoped>\n",
       "    .dataframe tbody tr th:only-of-type {\n",
       "        vertical-align: middle;\n",
       "    }\n",
       "\n",
       "    .dataframe tbody tr th {\n",
       "        vertical-align: top;\n",
       "    }\n",
       "\n",
       "    .dataframe thead th {\n",
       "        text-align: right;\n",
       "    }\n",
       "</style>\n",
       "<table border=\"1\" class=\"dataframe\">\n",
       "  <thead>\n",
       "    <tr style=\"text-align: right;\">\n",
       "      <th></th>\n",
       "      <th>twitts</th>\n",
       "      <th>sentiment</th>\n",
       "      <th>word_counts</th>\n",
       "      <th>char_counts</th>\n",
       "      <th>average_word_length</th>\n",
       "      <th>stop_words_len</th>\n",
       "      <th>hashtagcount</th>\n",
       "      <th>@count</th>\n",
       "      <th>Numeric_counts</th>\n",
       "      <th>upper_words_count</th>\n",
       "      <th>emails</th>\n",
       "      <th>email_count</th>\n",
       "      <th>url_counts</th>\n",
       "    </tr>\n",
       "  </thead>\n",
       "  <tbody>\n",
       "    <tr>\n",
       "      <th>0</th>\n",
       "      <td>is bored and wants to watch a movie  any sugge...</td>\n",
       "      <td>0</td>\n",
       "      <td>10</td>\n",
       "      <td>43</td>\n",
       "      <td>4.300000</td>\n",
       "      <td>5</td>\n",
       "      <td>0</td>\n",
       "      <td>0</td>\n",
       "      <td>0</td>\n",
       "      <td>0</td>\n",
       "      <td>[]</td>\n",
       "      <td>0</td>\n",
       "      <td>0</td>\n",
       "    </tr>\n",
       "    <tr>\n",
       "      <th>1</th>\n",
       "      <td>back in miami   waiting to unboard ship</td>\n",
       "      <td>0</td>\n",
       "      <td>7</td>\n",
       "      <td>32</td>\n",
       "      <td>4.571429</td>\n",
       "      <td>3</td>\n",
       "      <td>0</td>\n",
       "      <td>0</td>\n",
       "      <td>0</td>\n",
       "      <td>0</td>\n",
       "      <td>[]</td>\n",
       "      <td>0</td>\n",
       "      <td>0</td>\n",
       "    </tr>\n",
       "    <tr>\n",
       "      <th>2</th>\n",
       "      <td>misskpey awwww dnt dis brng bak memoriessss  ...</td>\n",
       "      <td>0</td>\n",
       "      <td>12</td>\n",
       "      <td>54</td>\n",
       "      <td>4.500000</td>\n",
       "      <td>0</td>\n",
       "      <td>0</td>\n",
       "      <td>1</td>\n",
       "      <td>0</td>\n",
       "      <td>1</td>\n",
       "      <td>[]</td>\n",
       "      <td>0</td>\n",
       "      <td>0</td>\n",
       "    </tr>\n",
       "    <tr>\n",
       "      <th>3</th>\n",
       "      <td>ughhh i am so tired  blahhhhhhhhh</td>\n",
       "      <td>0</td>\n",
       "      <td>6</td>\n",
       "      <td>27</td>\n",
       "      <td>4.500000</td>\n",
       "      <td>3</td>\n",
       "      <td>0</td>\n",
       "      <td>0</td>\n",
       "      <td>0</td>\n",
       "      <td>0</td>\n",
       "      <td>[]</td>\n",
       "      <td>0</td>\n",
       "      <td>0</td>\n",
       "    </tr>\n",
       "    <tr>\n",
       "      <th>4</th>\n",
       "      <td>mandagoforth me bad  it has funny though  zac...</td>\n",
       "      <td>0</td>\n",
       "      <td>26</td>\n",
       "      <td>116</td>\n",
       "      <td>4.461538</td>\n",
       "      <td>13</td>\n",
       "      <td>0</td>\n",
       "      <td>2</td>\n",
       "      <td>0</td>\n",
       "      <td>0</td>\n",
       "      <td>[]</td>\n",
       "      <td>0</td>\n",
       "      <td>0</td>\n",
       "    </tr>\n",
       "  </tbody>\n",
       "</table>\n",
       "</div>"
      ],
      "text/plain": [
       "                                              twitts  sentiment  word_counts  \\\n",
       "0  is bored and wants to watch a movie  any sugge...          0           10   \n",
       "1            back in miami   waiting to unboard ship          0            7   \n",
       "2   misskpey awwww dnt dis brng bak memoriessss  ...          0           12   \n",
       "3                  ughhh i am so tired  blahhhhhhhhh          0            6   \n",
       "4   mandagoforth me bad  it has funny though  zac...          0           26   \n",
       "\n",
       "   char_counts  average_word_length  stop_words_len  hashtagcount  @count  \\\n",
       "0           43             4.300000               5             0       0   \n",
       "1           32             4.571429               3             0       0   \n",
       "2           54             4.500000               0             0       1   \n",
       "3           27             4.500000               3             0       0   \n",
       "4          116             4.461538              13             0       2   \n",
       "\n",
       "   Numeric_counts  upper_words_count emails  email_count  url_counts  \n",
       "0               0                  0     []            0           0  \n",
       "1               0                  0     []            0           0  \n",
       "2               0                  1     []            0           0  \n",
       "3               0                  0     []            0           0  \n",
       "4               0                  0     []            0           0  "
      ]
     },
     "execution_count": 50,
     "metadata": {},
     "output_type": "execute_result"
    }
   ],
   "source": [
    "df.head()"
   ]
  },
  {
   "cell_type": "markdown",
   "metadata": {},
   "source": [
    "### Remove Multiple Space"
   ]
  },
  {
   "cell_type": "code",
   "execution_count": 51,
   "metadata": {},
   "outputs": [],
   "source": [
    "df[\"twitts\"] = df['twitts'].apply(lambda x:\" \".join(x.split()))"
   ]
  },
  {
   "cell_type": "markdown",
   "metadata": {},
   "source": [
    "### Remove Html tags"
   ]
  },
  {
   "cell_type": "code",
   "execution_count": 52,
   "metadata": {},
   "outputs": [],
   "source": [
    "# !pip install beautifulsoup4 "
   ]
  },
  {
   "cell_type": "code",
   "execution_count": 53,
   "metadata": {},
   "outputs": [],
   "source": [
    "from bs4 import BeautifulSoup"
   ]
  },
  {
   "cell_type": "code",
   "execution_count": 56,
   "metadata": {},
   "outputs": [
    {
     "data": {
      "text/plain": [
       "'hello world'"
      ]
     },
     "execution_count": 56,
     "metadata": {},
     "output_type": "execute_result"
    }
   ],
   "source": [
    "x = \"<html><h1> hello world </h1> </html>\"\n",
    "BeautifulSoup(x,'html.parser').get_text().strip()"
   ]
  },
  {
   "cell_type": "code",
   "execution_count": 55,
   "metadata": {},
   "outputs": [],
   "source": [
    "df[\"twitts\"] = df['twitts'].apply(lambda x:BeautifulSoup(x,'html.parser').get_text().strip())"
   ]
  },
  {
   "cell_type": "markdown",
   "metadata": {},
   "source": [
    "### Remove Accented Chars"
   ]
  },
  {
   "cell_type": "code",
   "execution_count": 58,
   "metadata": {},
   "outputs": [],
   "source": [
    "import unicodedata\n",
    "def remove_accented_char(x):\n",
    "    x = unicodedata.normalize(\"NFKD\",x).encode(\"ascii\",\"ignore\").decode('utf-8','ignore')\n",
    "    return x"
   ]
  },
  {
   "cell_type": "code",
   "execution_count": 59,
   "metadata": {},
   "outputs": [],
   "source": [
    "df['twitts'] = df['twitts'].apply(lambda x: remove_accented_char(x))"
   ]
  },
  {
   "cell_type": "code",
   "execution_count": null,
   "metadata": {},
   "outputs": [],
   "source": []
  }
 ],
 "metadata": {
  "kernelspec": {
   "display_name": "Python 3",
   "language": "python",
   "name": "python3"
  },
  "language_info": {
   "codemirror_mode": {
    "name": "ipython",
    "version": 3
   },
   "file_extension": ".py",
   "mimetype": "text/x-python",
   "name": "python",
   "nbconvert_exporter": "python",
   "pygments_lexer": "ipython3",
   "version": "3.7.6"
  }
 },
 "nbformat": 4,
 "nbformat_minor": 4
}
